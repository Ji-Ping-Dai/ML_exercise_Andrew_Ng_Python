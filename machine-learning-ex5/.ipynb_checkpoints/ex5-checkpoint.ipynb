{
 "cells": [
  {
   "cell_type": "markdown",
   "metadata": {},
   "source": [
    "This is the 5th exercise of Andrew Ng's [Machine Learning](https://www.coursera.org/learn/machine-learning/home/welcome) written with Python3"
   ]
  },
  {
   "cell_type": "markdown",
   "metadata": {},
   "source": [
    "## Regularized Linear Regression and Bias-Variance"
   ]
  },
  {
   "cell_type": "code",
   "execution_count": 1,
   "metadata": {},
   "outputs": [],
   "source": [
    "import numpy as np\n",
    "import matplotlib.pyplot as plt \n",
    "from scipy.io import loadmat\n",
    "import func\n",
    "plt.rc('text',usetex=True)\n",
    "plt.rc('font',family='Times New Roman')\n",
    "%matplotlib inline\n",
    "# Load data\n",
    "dataMat = loadmat('data/ex5data1.mat')\n",
    "X = dataMat['X']\n",
    "y = dataMat['y']\n",
    "Xval = dataMat['Xval']\n",
    "yval = dataMat['yval']\n",
    "Xb = np.concatenate([np.ones([X.shape[0],1]),X],axis=1)\n",
    "Xvalb = np.concatenate([np.ones([Xval.shape[0],1]),Xval],axis=1)"
   ]
  },
  {
   "cell_type": "code",
   "execution_count": 2,
   "metadata": {},
   "outputs": [
    {
     "name": "stdout",
     "output_type": "stream",
     "text": [
      "Cost at theta = [1 ; 1]: 303.9931922202643; this value should be about 303.993192\n",
      "gradient at theta = [1 ; 1]: [-15.30301567 598.25074417]; \n",
      "this value should be about [-15.303016; 598.250744]\n"
     ]
    }
   ],
   "source": [
    "# Reguularized Linear Regression Cost and Gradient\n",
    "theta = np.array([1,1]) # 1 times n+1 due to minmize\n",
    "J = func.costfunc(theta, Xb, y, 1)\n",
    "grad = func.gradient(theta, Xb, y, 1)\n",
    "print('Cost at theta = [1 ; 1]: {0}; this value should be about 303.993192'.format(J[0,0]))\n",
    "print('gradient at theta = [1 ; 1]: {0}; \\nthis value should be about [-15.303016; 598.250744]'.format(grad))"
   ]
  },
  {
   "cell_type": "code",
   "execution_count": 3,
   "metadata": {},
   "outputs": [
    {
     "name": "stdout",
     "output_type": "stream",
     "text": [
      "Optimization terminated successfully.\n",
      "         Current function value: 22.373906\n",
      "         Iterations: 2\n",
      "         Function evaluations: 5\n",
      "         Gradient evaluations: 5\n"
     ]
    },
    {
     "data": {
      "image/png": "[encoded data removed]",
      "text/plain": [
       "<Figure size 432x288 with 1 Axes>"
      ]
     },
     "metadata": {
      "needs_background": "light"
     },
     "output_type": "display_data"
    }
   ],
   "source": [
    "# Train Linear Regression\n",
    "lam = 0;\n",
    "theta = func.trainLR(Xb, y, lam)\n",
    "# plot the result\n",
    "plt.plot(X, y, 'rx',label='Data')\n",
    "plt.xlabel('Change in water level (x)')\n",
    "plt.ylabel('Water flowing out of the dam (y)')\n",
    "xfit = np.linspace(-50,40,100)\n",
    "yfit = np.concatenate([np.ones([100,1]),xfit.reshape(-1,1)],axis=1)@theta.reshape(-1,1)\n",
    "plt.plot(xfit, yfit, color='b', ls='--',label='Linear Fit')\n",
    "plt.legend();"
   ]
  },
  {
   "cell_type": "code",
   "execution_count": 4,
   "metadata": {},
   "outputs": [
    {
     "name": "stdout",
     "output_type": "stream",
     "text": [
      "Optimization terminated successfully.\n",
      "         Current function value: 0.000000\n",
      "         Iterations: 1\n",
      "         Function evaluations: 3\n",
      "         Gradient evaluations: 3\n",
      "Optimization terminated successfully.\n",
      "         Current function value: 0.000000\n",
      "         Iterations: 2\n",
      "         Function evaluations: 6\n",
      "         Gradient evaluations: 6\n",
      "Optimization terminated successfully.\n",
      "         Current function value: 3.286595\n",
      "         Iterations: 9\n",
      "         Function evaluations: 15\n",
      "         Gradient evaluations: 15\n",
      "Optimization terminated successfully.\n",
      "         Current function value: 2.842678\n",
      "         Iterations: 8\n",
      "         Function evaluations: 14\n",
      "         Gradient evaluations: 14\n",
      "Optimization terminated successfully.\n",
      "         Current function value: 13.154049\n",
      "         Iterations: 22\n",
      "         Function evaluations: 34\n",
      "         Gradient evaluations: 34\n",
      "Optimization terminated successfully.\n",
      "         Current function value: 19.443963\n",
      "         Iterations: 22\n",
      "         Function evaluations: 34\n",
      "         Gradient evaluations: 34\n",
      "Optimization terminated successfully.\n",
      "         Current function value: 20.098522\n",
      "         Iterations: 18\n",
      "         Function evaluations: 28\n",
      "         Gradient evaluations: 28\n",
      "Optimization terminated successfully.\n",
      "         Current function value: 18.172859\n",
      "         Iterations: 2\n",
      "         Function evaluations: 5\n",
      "         Gradient evaluations: 5\n",
      "Optimization terminated successfully.\n",
      "         Current function value: 22.609405\n",
      "         Iterations: 2\n",
      "         Function evaluations: 5\n",
      "         Gradient evaluations: 5\n",
      "Optimization terminated successfully.\n",
      "         Current function value: 23.261462\n",
      "         Iterations: 2\n",
      "         Function evaluations: 5\n",
      "         Gradient evaluations: 5\n",
      "Optimization terminated successfully.\n",
      "         Current function value: 24.317250\n",
      "         Iterations: 2\n",
      "         Function evaluations: 5\n",
      "         Gradient evaluations: 5\n",
      "Optimization terminated successfully.\n",
      "         Current function value: 22.373906\n",
      "         Iterations: 2\n",
      "         Function evaluations: 5\n",
      "         Gradient evaluations: 5\n",
      "Training Examples\tTrain Error\tCross Validation Error\n",
      "\n",
      "1\t  0.00\t205.12\n",
      "2\t  0.00\t110.30\n",
      "3\t  3.29\t 45.01\n",
      "4\t  2.84\t 48.37\n",
      "5\t 13.15\t 35.87\n",
      "6\t 19.44\t 33.83\n",
      "7\t 20.10\t 31.97\n",
      "8\t 18.17\t 30.86\n",
      "9\t 22.61\t 31.14\n",
      "10\t 23.26\t 28.94\n",
      "11\t 24.32\t 29.55\n",
      "12\t 22.37\t 29.43\n"
     ]
    },
    {
     "data": {
      "image/png": "[encoded data removed]",
      "text/plain": [
       "<Figure size 432x288 with 1 Axes>"
      ]
     },
     "metadata": {
      "needs_background": "light"
     },
     "output_type": "display_data"
    }
   ],
   "source": [
    "# Learning Curve for Linear Regression\n",
    "lam = 0\n",
    "error_train, error_val = func.learningCurve(Xb,y,Xvalb,yval,lam)\n",
    "plt.plot(error_train, color='b', label='Train')\n",
    "plt.plot(error_val, color='g', label='Cross Validation')\n",
    "plt.xlabel('Number of training examples')\n",
    "plt.ylabel('Error')\n",
    "plt.legend();\n",
    "print('Training Examples\\tTrain Error\\tCross Validation Error\\n')\n",
    "for i in range(len(y)):\n",
    "    print('{0}\\t{1:6.2f}\\t{2:6.2f}'.format(i+1,error_train[i],error_val[i]))"
   ]
  },
  {
   "cell_type": "code",
   "execution_count": 5,
   "metadata": {},
   "outputs": [],
   "source": [
    "# Feature Mapping for Polynomial Regression\n",
    "p = 8\n",
    "X_poly = func.polyFeatures(X,p)\n",
    "mu = np.mean(X_poly,axis=0)\n",
    "sigma = np.std(X_poly,axis=0)\n",
    "X_poly = (X_poly-mu)/sigma\n",
    "Xb_poly = np.concatenate([np.ones([X_poly.shape[0],1]),X_poly],axis=1)\n",
    "X_poly_val= func.polyFeatures(Xval,p)\n",
    "X_poly_val = (X_poly_val-mu)/sigma\n",
    "Xb_poly_val = np.concatenate([np.ones([X_poly_val.shape[0],1]),X_poly_val],axis=1)"
   ]
  },
  {
   "cell_type": "code",
   "execution_count": 6,
   "metadata": {},
   "outputs": [
    {
     "name": "stdout",
     "output_type": "stream",
     "text": [
      "Warning: Maximum number of iterations has been exceeded.\n",
      "         Current function value: 0.220788\n",
      "         Iterations: 50\n",
      "         Function evaluations: 94\n",
      "         Gradient evaluations: 94\n",
      "Optimization terminated successfully.\n",
      "         Current function value: 0.000000\n",
      "         Iterations: 2\n",
      "         Function evaluations: 4\n",
      "         Gradient evaluations: 4\n",
      "Optimization terminated successfully.\n",
      "         Current function value: 0.000000\n",
      "         Iterations: 6\n",
      "         Function evaluations: 9\n",
      "         Gradient evaluations: 9\n",
      "Optimization terminated successfully.\n",
      "         Current function value: 0.000000\n",
      "         Iterations: 15\n",
      "         Function evaluations: 27\n",
      "         Gradient evaluations: 27\n",
      "Optimization terminated successfully.\n",
      "         Current function value: 0.000000\n",
      "         Iterations: 4\n",
      "         Function evaluations: 13\n",
      "         Gradient evaluations: 13\n",
      "Optimization terminated successfully.\n",
      "         Current function value: 0.000000\n",
      "         Iterations: 17\n",
      "         Function evaluations: 35\n",
      "         Gradient evaluations: 35\n",
      "Optimization terminated successfully.\n",
      "         Current function value: 0.000000\n",
      "         Iterations: 36\n",
      "         Function evaluations: 70\n",
      "         Gradient evaluations: 70\n",
      "Optimization terminated successfully.\n",
      "         Current function value: 0.000000\n",
      "         Iterations: 35\n",
      "         Function evaluations: 78\n",
      "         Gradient evaluations: 78\n",
      "Warning: Maximum number of iterations has been exceeded.\n",
      "         Current function value: 0.033675\n",
      "         Iterations: 50\n",
      "         Function evaluations: 124\n",
      "         Gradient evaluations: 124\n",
      "Warning: Maximum number of iterations has been exceeded.\n",
      "         Current function value: 0.232096\n",
      "         Iterations: 50\n",
      "         Function evaluations: 86\n",
      "         Gradient evaluations: 86\n",
      "Warning: Maximum number of iterations has been exceeded.\n",
      "         Current function value: 0.239358\n",
      "         Iterations: 50\n",
      "         Function evaluations: 90\n",
      "         Gradient evaluations: 90\n",
      "Warning: Maximum number of iterations has been exceeded.\n",
      "         Current function value: 0.230559\n",
      "         Iterations: 50\n",
      "         Function evaluations: 79\n",
      "         Gradient evaluations: 79\n",
      "Warning: Maximum number of iterations has been exceeded.\n",
      "         Current function value: 0.220788\n",
      "         Iterations: 50\n",
      "         Function evaluations: 94\n",
      "         Gradient evaluations: 94\n",
      "Training Examples\tTrain Error\tCross Validation Error\n",
      "\n",
      "1\t  0.00\t161.44\n",
      "2\t  0.00\t160.79\n",
      "3\t  0.00\t 67.08\n",
      "4\t  0.00\t 67.73\n",
      "5\t  0.00\t  6.62\n",
      "6\t  0.00\t 10.64\n",
      "7\t  0.00\t 28.02\n",
      "8\t  0.03\t 16.50\n",
      "9\t  0.23\t  9.24\n",
      "10\t  0.24\t  9.69\n",
      "11\t  0.23\t  8.12\n",
      "12\t  0.22\t 20.79\n"
     ]
    },
    {
     "data": {
      "image/png": "[encoded data removed]",
      "text/plain": [
       "<Figure size 432x288 with 1 Axes>"
      ]
     },
     "metadata": {
      "needs_background": "light"
     },
     "output_type": "display_data"
    },
    {
     "data": {
      "image/png": "[encoded data removed]",
      "text/plain": [
       "<Figure size 432x288 with 1 Axes>"
      ]
     },
     "metadata": {
      "needs_background": "light"
     },
     "output_type": "display_data"
    }
   ],
   "source": [
    "# Learning Curve for Polynomial Regression\n",
    "lam = 0\n",
    "theta = func.trainLR(Xb_poly, y, lam)\n",
    "plt.figure()\n",
    "plt.plot(X, y, 'rx',label='Data')\n",
    "plt.xlabel('Change in water level (x)')\n",
    "plt.ylabel('Water flowing out of the dam (y)')\n",
    "xfit = np.linspace(-60,50,100)\n",
    "yfit = np.concatenate([np.ones([100,1]),(func.polyFeatures(xfit.reshape(-1,1),p)-mu)/sigma],axis=1)@theta.reshape(-1,1)\n",
    "plt.plot(xfit, yfit, color='b', ls='--',label='Linear Fit')\n",
    "plt.legend();\n",
    "#\n",
    "plt.figure()\n",
    "error_train, error_val = func.learningCurve(Xb_poly,y,Xb_poly_val,yval,lam)\n",
    "plt.plot(error_train, color='b', label='Train')\n",
    "plt.plot(error_val, color='g', label='Cross Validation')\n",
    "plt.xlabel('Number of training examples')\n",
    "plt.ylabel('Error')\n",
    "plt.legend();\n",
    "print('Training Examples\\tTrain Error\\tCross Validation Error\\n')\n",
    "for i in range(len(y)):\n",
    "    print('{0}\\t{1:6.2f}\\t{2:6.2f}'.format(i+1,error_train[i],error_val[i]))"
   ]
  },
  {
   "cell_type": "code",
   "execution_count": 7,
   "metadata": {},
   "outputs": [
    {
     "name": "stdout",
     "output_type": "stream",
     "text": [
      "Warning: Maximum number of iterations has been exceeded.\n",
      "         Current function value: 0.220788\n",
      "         Iterations: 50\n",
      "         Function evaluations: 94\n",
      "         Gradient evaluations: 94\n",
      "Warning: Maximum number of iterations has been exceeded.\n",
      "         Current function value: 0.223403\n",
      "         Iterations: 50\n",
      "         Function evaluations: 95\n",
      "         Gradient evaluations: 95\n",
      "Warning: Maximum number of iterations has been exceeded.\n",
      "         Current function value: 0.243179\n",
      "         Iterations: 50\n",
      "         Function evaluations: 102\n",
      "         Gradient evaluations: 102\n",
      "Warning: Maximum number of iterations has been exceeded.\n",
      "         Current function value: 0.380654\n",
      "         Iterations: 50\n",
      "         Function evaluations: 91\n",
      "         Gradient evaluations: 91\n",
      "Warning: Maximum number of iterations has been exceeded.\n",
      "         Current function value: 0.637600\n",
      "         Iterations: 50\n",
      "         Function evaluations: 86\n",
      "         Gradient evaluations: 86\n",
      "Warning: Maximum number of iterations has been exceeded.\n",
      "         Current function value: 1.360588\n",
      "         Iterations: 50\n",
      "         Function evaluations: 96\n",
      "         Gradient evaluations: 96\n",
      "Warning: Maximum number of iterations has been exceeded.\n",
      "         Current function value: 2.917649\n",
      "         Iterations: 50\n",
      "         Function evaluations: 86\n",
      "         Gradient evaluations: 86\n",
      "Optimization terminated successfully.\n",
      "         Current function value: 6.830463\n",
      "         Iterations: 34\n",
      "         Function evaluations: 62\n",
      "         Gradient evaluations: 62\n",
      "Optimization terminated successfully.\n",
      "         Current function value: 14.937646\n",
      "         Iterations: 13\n",
      "         Function evaluations: 24\n",
      "         Gradient evaluations: 24\n",
      "Optimization terminated successfully.\n",
      "         Current function value: 31.878154\n",
      "         Iterations: 15\n",
      "         Function evaluations: 25\n",
      "         Gradient evaluations: 25\n",
      "Training Examples\tTrain Error\tCross Validation Error\n",
      "\n",
      "1\t  0.22\t 20.79\n",
      "2\t  0.21\t 20.78\n",
      "3\t  0.17\t 16.09\n",
      "4\t  0.25\t 16.04\n",
      "5\t  0.27\t 13.59\n",
      "6\t  0.44\t  7.90\n",
      "7\t  0.87\t  4.76\n",
      "8\t  1.96\t  4.26\n",
      "9\t  4.53\t  3.83\n",
      "10\t 14.83\t  8.89\n"
     ]
    },
    {
     "data": {
      "image/png": "[encoded data removed]",
      "text/plain": [
       "<Figure size 432x288 with 1 Axes>"
      ]
     },
     "metadata": {
      "needs_background": "light"
     },
     "output_type": "display_data"
    }
   ],
   "source": [
    "# Validation for Selecting Lambda\n",
    "lam = np.array([0, 0.001, 0.003, 0.01, 0.03, 0.1, 0.3, 1, 3, 10])\n",
    "error_train, error_val = func.learningCurve(Xb_poly,y,Xb_poly_val,yval,lam)\n",
    "plt.plot(lam, error_train, color='b', label='Train')\n",
    "plt.plot(lam, error_val, color='g', label='Cross Validation')\n",
    "plt.xlabel('Number of training examples')\n",
    "plt.ylabel('Error')\n",
    "plt.legend();\n",
    "print('Training Examples\\tTrain Error\\tCross Validation Error\\n')\n",
    "for i in range(len(lam)):\n",
    "    print('{0}\\t{1:6.2f}\\t{2:6.2f}'.format(i+1,error_train[i],error_val[i]))"
   ]
  }
 ],
 "metadata": {
  "kernelspec": {
   "display_name": "Python 3",
   "language": "python",
   "name": "python3"
  },
  "language_info": {
   "codemirror_mode": {
    "name": "ipython",
    "version": 3
   },
   "file_extension": ".py",
   "mimetype": "text/x-python",
   "name": "python",
   "nbconvert_exporter": "python",
   "pygments_lexer": "ipython3",
   "version": "3.7.0"
  }
 },
 "nbformat": 4,
 "nbformat_minor": 2
}
